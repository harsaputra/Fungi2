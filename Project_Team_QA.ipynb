{
  "cells": [
    {
      "cell_type": "code",
      "execution_count": null,
      "id": "5ca39926",
      "metadata": {
        "_cell_guid": "b1076dfc-b9ad-4769-8c92-a6c4dae69d19",
        "_uuid": "8f2839f25d086af736a60e9eeb907d3b93b6e0e5",
        "execution": {
          "iopub.execute_input": "2023-10-11T12:52:48.319225Z",
          "iopub.status.busy": "2023-10-11T12:52:48.318905Z",
          "iopub.status.idle": "2023-10-11T12:52:56.614187Z",
          "shell.execute_reply": "2023-10-11T12:52:56.613266Z"
        },
        "id": "5ca39926",
        "papermill": {
          "duration": 8.301671,
          "end_time": "2023-10-11T12:52:56.616283",
          "exception": false,
          "start_time": "2023-10-11T12:52:48.314612",
          "status": "completed"
        },
        "tags": []
      },
      "outputs": [],
      "source": [
        "import tensorflow as tf\n",
        "import numpy as np\n",
        "from tensorflow import keras\n",
        "from keras import backend as K\n",
        "from tensorflow.keras.layers import Layer\n",
        "from tensorflow.keras import initializers\n",
        "import matplotlib.pyplot as plt\n",
        "import os"
      ]
    },
    {
      "cell_type": "code",
      "execution_count": null,
      "id": "f2c0f2c4",
      "metadata": {
        "execution": {
          "iopub.execute_input": "2023-10-11T12:52:56.622732Z",
          "iopub.status.busy": "2023-10-11T12:52:56.622272Z",
          "iopub.status.idle": "2023-10-11T12:53:20.436519Z",
          "shell.execute_reply": "2023-10-11T12:53:20.435515Z"
        },
        "id": "f2c0f2c4",
        "papermill": {
          "duration": 23.81957,
          "end_time": "2023-10-11T12:53:20.438599",
          "exception": false,
          "start_time": "2023-10-11T12:52:56.619029",
          "status": "completed"
        },
        "tags": []
      },
      "outputs": [],
      "source": [
        "data_dir = \"./Fungi\"\n",
        "train_dir = \"./Fungi/train\"\n",
        "val_dir = \"./Fungi/valid\"\n",
        "test_dir = \"./Fungi/test\""
      ]
    },
    {
      "cell_type": "code",
      "execution_count": null,
      "id": "6872c883",
      "metadata": {
        "colab": {
          "base_uri": "https://localhost:8080/"
        },
        "execution": {
          "iopub.execute_input": "2023-10-11T12:53:20.444551Z",
          "iopub.status.busy": "2023-10-11T12:53:20.444299Z",
          "iopub.status.idle": "2023-10-11T12:53:24.404772Z",
          "shell.execute_reply": "2023-10-11T12:53:24.403620Z"
        },
        "id": "6872c883",
        "outputId": "1c42da5b-9c05-442b-903d-fb24208b8052",
        "papermill": {
          "duration": 3.965621,
          "end_time": "2023-10-11T12:53:24.406747",
          "exception": false,
          "start_time": "2023-10-11T12:53:20.441126",
          "status": "completed"
        },
        "tags": []
      },
      "outputs": [
        {
          "name": "stdout",
          "output_type": "stream",
          "text": [
            "Found 5000 files belonging to 5 classes.\n",
            "Using 4900 files for training.\n",
            "Found 899 files belonging to 5 classes.\n",
            "Using 17 files for validation.\n"
          ]
        }
      ],
      "source": [
        "train_generator  = tf.keras.utils.image_dataset_from_directory(\n",
        "    train_dir,\n",
        "    label_mode='categorical',\n",
        "    labels = 'inferred',\n",
        "    shuffle=True,\n",
        "    seed=123,\n",
        "    validation_split=0.02,\n",
        "    image_size=(150,150),\n",
        "    batch_size=128,\n",
        "    subset='training')\n",
        "\n",
        "val_generator  = tf.keras.utils.image_dataset_from_directory(\n",
        "    val_dir,\n",
        "    label_mode='categorical',\n",
        "    labels = 'inferred',\n",
        "    shuffle=True,\n",
        "    seed=123,\n",
        "    validation_split=0.02,\n",
        "    image_size=(150,150),\n",
        "    batch_size=128,\n",
        "    subset='validation')"
      ]
    },
    {
      "cell_type": "code",
      "execution_count": null,
      "id": "260d611a",
      "metadata": {
        "execution": {
          "iopub.execute_input": "2023-10-11T12:53:24.413987Z",
          "iopub.status.busy": "2023-10-11T12:53:24.413384Z",
          "iopub.status.idle": "2023-10-11T12:53:32.218615Z",
          "shell.execute_reply": "2023-10-11T12:53:32.217713Z"
        },
        "id": "260d611a",
        "papermill": {
          "duration": 7.810909,
          "end_time": "2023-10-11T12:53:32.220608",
          "exception": false,
          "start_time": "2023-10-11T12:53:24.409699",
          "status": "completed"
        },
        "tags": []
      },
      "outputs": [],
      "source": [
        "EffB7_Layer = tf.keras.applications.efficientnet.EfficientNetB7(\n",
        "    input_shape=(150,150, 3),\n",
        "    weights='imagenet',\n",
        "    include_top=False)\n",
        "EffB7_Layer.trainable = False"
      ]
    },
    {
      "cell_type": "code",
      "execution_count": null,
      "id": "dbfe4f66",
      "metadata": {
        "colab": {
          "base_uri": "https://localhost:8080/",
          "height": 799
        },
        "execution": {
          "iopub.execute_input": "2023-10-11T12:53:32.229055Z",
          "iopub.status.busy": "2023-10-11T12:53:32.228803Z",
          "iopub.status.idle": "2023-10-11T12:53:34.710746Z",
          "shell.execute_reply": "2023-10-11T12:53:34.709702Z"
        },
        "id": "dbfe4f66",
        "outputId": "a0ca70e2-8e65-4216-faa4-a4cd2a2b43e4",
        "papermill": {
          "duration": 2.488735,
          "end_time": "2023-10-11T12:53:34.712962",
          "exception": false,
          "start_time": "2023-10-11T12:53:32.224227",
          "status": "completed"
        },
        "tags": []
      },
      "outputs": [
        {
          "data": {
            "text/html": [
              "<pre style=\"white-space:pre;overflow-x:auto;line-height:normal;font-family:Menlo,'DejaVu Sans Mono',consolas,'Courier New',monospace\"><span style=\"font-weight: bold\">Model: \"sequential_1\"</span>\n",
              "</pre>\n"
            ],
            "text/plain": [
              "\u001b[1mModel: \"sequential_1\"\u001b[0m\n"
            ]
          },
          "metadata": {},
          "output_type": "display_data"
        },
        {
          "data": {
            "text/html": [
              "<pre style=\"white-space:pre;overflow-x:auto;line-height:normal;font-family:Menlo,'DejaVu Sans Mono',consolas,'Courier New',monospace\">┏━━━━━━━━━━━━━━━━━━━━━━━━━━━━━━━━━┳━━━━━━━━━━━━━━━━━━━━━━━━┳━━━━━━━━━━━━━━━┓\n",
              "┃<span style=\"font-weight: bold\"> Layer (type)                    </span>┃<span style=\"font-weight: bold\"> Output Shape           </span>┃<span style=\"font-weight: bold\">       Param # </span>┃\n",
              "┡━━━━━━━━━━━━━━━━━━━━━━━━━━━━━━━━━╇━━━━━━━━━━━━━━━━━━━━━━━━╇━━━━━━━━━━━━━━━┩\n",
              "│ efficientnetb7 (<span style=\"color: #0087ff; text-decoration-color: #0087ff\">Functional</span>)     │ (<span style=\"color: #00d7ff; text-decoration-color: #00d7ff\">None</span>, <span style=\"color: #00af00; text-decoration-color: #00af00\">5</span>, <span style=\"color: #00af00; text-decoration-color: #00af00\">5</span>, <span style=\"color: #00af00; text-decoration-color: #00af00\">2560</span>)     │    <span style=\"color: #00af00; text-decoration-color: #00af00\">64,097,687</span> │\n",
              "├─────────────────────────────────┼────────────────────────┼───────────────┤\n",
              "│ flatten_1 (<span style=\"color: #0087ff; text-decoration-color: #0087ff\">Flatten</span>)             │ (<span style=\"color: #00d7ff; text-decoration-color: #00d7ff\">None</span>, <span style=\"color: #00af00; text-decoration-color: #00af00\">64000</span>)          │             <span style=\"color: #00af00; text-decoration-color: #00af00\">0</span> │\n",
              "├─────────────────────────────────┼────────────────────────┼───────────────┤\n",
              "│ batch_normalization_7           │ (<span style=\"color: #00d7ff; text-decoration-color: #00d7ff\">None</span>, <span style=\"color: #00af00; text-decoration-color: #00af00\">64000</span>)          │       <span style=\"color: #00af00; text-decoration-color: #00af00\">256,000</span> │\n",
              "│ (<span style=\"color: #0087ff; text-decoration-color: #0087ff\">BatchNormalization</span>)            │                        │               │\n",
              "├─────────────────────────────────┼────────────────────────┼───────────────┤\n",
              "│ dense_7 (<span style=\"color: #0087ff; text-decoration-color: #0087ff\">Dense</span>)                 │ (<span style=\"color: #00d7ff; text-decoration-color: #00d7ff\">None</span>, <span style=\"color: #00af00; text-decoration-color: #00af00\">2048</span>)           │   <span style=\"color: #00af00; text-decoration-color: #00af00\">131,074,048</span> │\n",
              "├─────────────────────────────────┼────────────────────────┼───────────────┤\n",
              "│ batch_normalization_8           │ (<span style=\"color: #00d7ff; text-decoration-color: #00d7ff\">None</span>, <span style=\"color: #00af00; text-decoration-color: #00af00\">2048</span>)           │         <span style=\"color: #00af00; text-decoration-color: #00af00\">8,192</span> │\n",
              "│ (<span style=\"color: #0087ff; text-decoration-color: #0087ff\">BatchNormalization</span>)            │                        │               │\n",
              "├─────────────────────────────────┼────────────────────────┼───────────────┤\n",
              "│ dense_8 (<span style=\"color: #0087ff; text-decoration-color: #0087ff\">Dense</span>)                 │ (<span style=\"color: #00d7ff; text-decoration-color: #00d7ff\">None</span>, <span style=\"color: #00af00; text-decoration-color: #00af00\">1024</span>)           │     <span style=\"color: #00af00; text-decoration-color: #00af00\">2,098,176</span> │\n",
              "├─────────────────────────────────┼────────────────────────┼───────────────┤\n",
              "│ batch_normalization_9           │ (<span style=\"color: #00d7ff; text-decoration-color: #00d7ff\">None</span>, <span style=\"color: #00af00; text-decoration-color: #00af00\">1024</span>)           │         <span style=\"color: #00af00; text-decoration-color: #00af00\">4,096</span> │\n",
              "│ (<span style=\"color: #0087ff; text-decoration-color: #0087ff\">BatchNormalization</span>)            │                        │               │\n",
              "├─────────────────────────────────┼────────────────────────┼───────────────┤\n",
              "│ dense_9 (<span style=\"color: #0087ff; text-decoration-color: #0087ff\">Dense</span>)                 │ (<span style=\"color: #00d7ff; text-decoration-color: #00d7ff\">None</span>, <span style=\"color: #00af00; text-decoration-color: #00af00\">1024</span>)           │     <span style=\"color: #00af00; text-decoration-color: #00af00\">1,049,600</span> │\n",
              "├─────────────────────────────────┼────────────────────────┼───────────────┤\n",
              "│ batch_normalization_10          │ (<span style=\"color: #00d7ff; text-decoration-color: #00d7ff\">None</span>, <span style=\"color: #00af00; text-decoration-color: #00af00\">1024</span>)           │         <span style=\"color: #00af00; text-decoration-color: #00af00\">4,096</span> │\n",
              "│ (<span style=\"color: #0087ff; text-decoration-color: #0087ff\">BatchNormalization</span>)            │                        │               │\n",
              "├─────────────────────────────────┼────────────────────────┼───────────────┤\n",
              "│ dense_10 (<span style=\"color: #0087ff; text-decoration-color: #0087ff\">Dense</span>)                │ (<span style=\"color: #00d7ff; text-decoration-color: #00d7ff\">None</span>, <span style=\"color: #00af00; text-decoration-color: #00af00\">512</span>)            │       <span style=\"color: #00af00; text-decoration-color: #00af00\">524,800</span> │\n",
              "├─────────────────────────────────┼────────────────────────┼───────────────┤\n",
              "│ batch_normalization_11          │ (<span style=\"color: #00d7ff; text-decoration-color: #00d7ff\">None</span>, <span style=\"color: #00af00; text-decoration-color: #00af00\">512</span>)            │         <span style=\"color: #00af00; text-decoration-color: #00af00\">2,048</span> │\n",
              "│ (<span style=\"color: #0087ff; text-decoration-color: #0087ff\">BatchNormalization</span>)            │                        │               │\n",
              "├─────────────────────────────────┼────────────────────────┼───────────────┤\n",
              "│ dense_11 (<span style=\"color: #0087ff; text-decoration-color: #0087ff\">Dense</span>)                │ (<span style=\"color: #00d7ff; text-decoration-color: #00d7ff\">None</span>, <span style=\"color: #00af00; text-decoration-color: #00af00\">256</span>)            │       <span style=\"color: #00af00; text-decoration-color: #00af00\">131,328</span> │\n",
              "├─────────────────────────────────┼────────────────────────┼───────────────┤\n",
              "│ batch_normalization_12          │ (<span style=\"color: #00d7ff; text-decoration-color: #00d7ff\">None</span>, <span style=\"color: #00af00; text-decoration-color: #00af00\">256</span>)            │         <span style=\"color: #00af00; text-decoration-color: #00af00\">1,024</span> │\n",
              "│ (<span style=\"color: #0087ff; text-decoration-color: #0087ff\">BatchNormalization</span>)            │                        │               │\n",
              "├─────────────────────────────────┼────────────────────────┼───────────────┤\n",
              "│ dense_12 (<span style=\"color: #0087ff; text-decoration-color: #0087ff\">Dense</span>)                │ (<span style=\"color: #00d7ff; text-decoration-color: #00d7ff\">None</span>, <span style=\"color: #00af00; text-decoration-color: #00af00\">32</span>)             │         <span style=\"color: #00af00; text-decoration-color: #00af00\">8,224</span> │\n",
              "├─────────────────────────────────┼────────────────────────┼───────────────┤\n",
              "│ batch_normalization_13          │ (<span style=\"color: #00d7ff; text-decoration-color: #00d7ff\">None</span>, <span style=\"color: #00af00; text-decoration-color: #00af00\">32</span>)             │           <span style=\"color: #00af00; text-decoration-color: #00af00\">128</span> │\n",
              "│ (<span style=\"color: #0087ff; text-decoration-color: #0087ff\">BatchNormalization</span>)            │                        │               │\n",
              "├─────────────────────────────────┼────────────────────────┼───────────────┤\n",
              "│ dense_13 (<span style=\"color: #0087ff; text-decoration-color: #0087ff\">Dense</span>)                │ (<span style=\"color: #00d7ff; text-decoration-color: #00d7ff\">None</span>, <span style=\"color: #00af00; text-decoration-color: #00af00\">5</span>)              │           <span style=\"color: #00af00; text-decoration-color: #00af00\">165</span> │\n",
              "└─────────────────────────────────┴────────────────────────┴───────────────┘\n",
              "</pre>\n"
            ],
            "text/plain": [
              "┏━━━━━━━━━━━━━━━━━━━━━━━━━━━━━━━━━┳━━━━━━━━━━━━━━━━━━━━━━━━┳━━━━━━━━━━━━━━━┓\n",
              "┃\u001b[1m \u001b[0m\u001b[1mLayer (type)                   \u001b[0m\u001b[1m \u001b[0m┃\u001b[1m \u001b[0m\u001b[1mOutput Shape          \u001b[0m\u001b[1m \u001b[0m┃\u001b[1m \u001b[0m\u001b[1m      Param #\u001b[0m\u001b[1m \u001b[0m┃\n",
              "┡━━━━━━━━━━━━━━━━━━━━━━━━━━━━━━━━━╇━━━━━━━━━━━━━━━━━━━━━━━━╇━━━━━━━━━━━━━━━┩\n",
              "│ efficientnetb7 (\u001b[38;5;33mFunctional\u001b[0m)     │ (\u001b[38;5;45mNone\u001b[0m, \u001b[38;5;34m5\u001b[0m, \u001b[38;5;34m5\u001b[0m, \u001b[38;5;34m2560\u001b[0m)     │    \u001b[38;5;34m64,097,687\u001b[0m │\n",
              "├─────────────────────────────────┼────────────────────────┼───────────────┤\n",
              "│ flatten_1 (\u001b[38;5;33mFlatten\u001b[0m)             │ (\u001b[38;5;45mNone\u001b[0m, \u001b[38;5;34m64000\u001b[0m)          │             \u001b[38;5;34m0\u001b[0m │\n",
              "├─────────────────────────────────┼────────────────────────┼───────────────┤\n",
              "│ batch_normalization_7           │ (\u001b[38;5;45mNone\u001b[0m, \u001b[38;5;34m64000\u001b[0m)          │       \u001b[38;5;34m256,000\u001b[0m │\n",
              "│ (\u001b[38;5;33mBatchNormalization\u001b[0m)            │                        │               │\n",
              "├─────────────────────────────────┼────────────────────────┼───────────────┤\n",
              "│ dense_7 (\u001b[38;5;33mDense\u001b[0m)                 │ (\u001b[38;5;45mNone\u001b[0m, \u001b[38;5;34m2048\u001b[0m)           │   \u001b[38;5;34m131,074,048\u001b[0m │\n",
              "├─────────────────────────────────┼────────────────────────┼───────────────┤\n",
              "│ batch_normalization_8           │ (\u001b[38;5;45mNone\u001b[0m, \u001b[38;5;34m2048\u001b[0m)           │         \u001b[38;5;34m8,192\u001b[0m │\n",
              "│ (\u001b[38;5;33mBatchNormalization\u001b[0m)            │                        │               │\n",
              "├─────────────────────────────────┼────────────────────────┼───────────────┤\n",
              "│ dense_8 (\u001b[38;5;33mDense\u001b[0m)                 │ (\u001b[38;5;45mNone\u001b[0m, \u001b[38;5;34m1024\u001b[0m)           │     \u001b[38;5;34m2,098,176\u001b[0m │\n",
              "├─────────────────────────────────┼────────────────────────┼───────────────┤\n",
              "│ batch_normalization_9           │ (\u001b[38;5;45mNone\u001b[0m, \u001b[38;5;34m1024\u001b[0m)           │         \u001b[38;5;34m4,096\u001b[0m │\n",
              "│ (\u001b[38;5;33mBatchNormalization\u001b[0m)            │                        │               │\n",
              "├─────────────────────────────────┼────────────────────────┼───────────────┤\n",
              "│ dense_9 (\u001b[38;5;33mDense\u001b[0m)                 │ (\u001b[38;5;45mNone\u001b[0m, \u001b[38;5;34m1024\u001b[0m)           │     \u001b[38;5;34m1,049,600\u001b[0m │\n",
              "├─────────────────────────────────┼────────────────────────┼───────────────┤\n",
              "│ batch_normalization_10          │ (\u001b[38;5;45mNone\u001b[0m, \u001b[38;5;34m1024\u001b[0m)           │         \u001b[38;5;34m4,096\u001b[0m │\n",
              "│ (\u001b[38;5;33mBatchNormalization\u001b[0m)            │                        │               │\n",
              "├─────────────────────────────────┼────────────────────────┼───────────────┤\n",
              "│ dense_10 (\u001b[38;5;33mDense\u001b[0m)                │ (\u001b[38;5;45mNone\u001b[0m, \u001b[38;5;34m512\u001b[0m)            │       \u001b[38;5;34m524,800\u001b[0m │\n",
              "├─────────────────────────────────┼────────────────────────┼───────────────┤\n",
              "│ batch_normalization_11          │ (\u001b[38;5;45mNone\u001b[0m, \u001b[38;5;34m512\u001b[0m)            │         \u001b[38;5;34m2,048\u001b[0m │\n",
              "│ (\u001b[38;5;33mBatchNormalization\u001b[0m)            │                        │               │\n",
              "├─────────────────────────────────┼────────────────────────┼───────────────┤\n",
              "│ dense_11 (\u001b[38;5;33mDense\u001b[0m)                │ (\u001b[38;5;45mNone\u001b[0m, \u001b[38;5;34m256\u001b[0m)            │       \u001b[38;5;34m131,328\u001b[0m │\n",
              "├─────────────────────────────────┼────────────────────────┼───────────────┤\n",
              "│ batch_normalization_12          │ (\u001b[38;5;45mNone\u001b[0m, \u001b[38;5;34m256\u001b[0m)            │         \u001b[38;5;34m1,024\u001b[0m │\n",
              "│ (\u001b[38;5;33mBatchNormalization\u001b[0m)            │                        │               │\n",
              "├─────────────────────────────────┼────────────────────────┼───────────────┤\n",
              "│ dense_12 (\u001b[38;5;33mDense\u001b[0m)                │ (\u001b[38;5;45mNone\u001b[0m, \u001b[38;5;34m32\u001b[0m)             │         \u001b[38;5;34m8,224\u001b[0m │\n",
              "├─────────────────────────────────┼────────────────────────┼───────────────┤\n",
              "│ batch_normalization_13          │ (\u001b[38;5;45mNone\u001b[0m, \u001b[38;5;34m32\u001b[0m)             │           \u001b[38;5;34m128\u001b[0m │\n",
              "│ (\u001b[38;5;33mBatchNormalization\u001b[0m)            │                        │               │\n",
              "├─────────────────────────────────┼────────────────────────┼───────────────┤\n",
              "│ dense_13 (\u001b[38;5;33mDense\u001b[0m)                │ (\u001b[38;5;45mNone\u001b[0m, \u001b[38;5;34m5\u001b[0m)              │           \u001b[38;5;34m165\u001b[0m │\n",
              "└─────────────────────────────────┴────────────────────────┴───────────────┘\n"
            ]
          },
          "metadata": {},
          "output_type": "display_data"
        },
        {
          "data": {
            "text/html": [
              "<pre style=\"white-space:pre;overflow-x:auto;line-height:normal;font-family:Menlo,'DejaVu Sans Mono',consolas,'Courier New',monospace\"><span style=\"font-weight: bold\"> Total params: </span><span style=\"color: #00af00; text-decoration-color: #00af00\">199,259,612</span> (760.12 MB)\n",
              "</pre>\n"
            ],
            "text/plain": [
              "\u001b[1m Total params: \u001b[0m\u001b[38;5;34m199,259,612\u001b[0m (760.12 MB)\n"
            ]
          },
          "metadata": {},
          "output_type": "display_data"
        },
        {
          "data": {
            "text/html": [
              "<pre style=\"white-space:pre;overflow-x:auto;line-height:normal;font-family:Menlo,'DejaVu Sans Mono',consolas,'Courier New',monospace\"><span style=\"font-weight: bold\"> Trainable params: </span><span style=\"color: #00af00; text-decoration-color: #00af00\">135,024,133</span> (515.08 MB)\n",
              "</pre>\n"
            ],
            "text/plain": [
              "\u001b[1m Trainable params: \u001b[0m\u001b[38;5;34m135,024,133\u001b[0m (515.08 MB)\n"
            ]
          },
          "metadata": {},
          "output_type": "display_data"
        },
        {
          "data": {
            "text/html": [
              "<pre style=\"white-space:pre;overflow-x:auto;line-height:normal;font-family:Menlo,'DejaVu Sans Mono',consolas,'Courier New',monospace\"><span style=\"font-weight: bold\"> Non-trainable params: </span><span style=\"color: #00af00; text-decoration-color: #00af00\">64,235,479</span> (245.04 MB)\n",
              "</pre>\n"
            ],
            "text/plain": [
              "\u001b[1m Non-trainable params: \u001b[0m\u001b[38;5;34m64,235,479\u001b[0m (245.04 MB)\n"
            ]
          },
          "metadata": {},
          "output_type": "display_data"
        }
      ],
      "source": [
        "model = tf.keras.models.Sequential()\n",
        "model.add(EffB7_Layer)\n",
        "model.add(tf.keras.layers.Flatten())\n",
        "model.add(tf.keras.layers.BatchNormalization())\n",
        "model.add(tf.keras.layers.Dense(2048, activation='relu', kernel_initializer='he_normal'))\n",
        "model.add(tf.keras.layers.BatchNormalization())\n",
        "model.add(tf.keras.layers.Dense(1024, activation='relu', kernel_initializer='he_normal'))\n",
        "model.add(tf.keras.layers.BatchNormalization())\n",
        "model.add(tf.keras.layers.Dense(512, activation='relu', kernel_initializer='he_normal'))\n",
        "model.add(tf.keras.layers.BatchNormalization())\n",
        "model.add(tf.keras.layers.Dense(256, activation='relu', kernel_initializer='he_normal'))\n",
        "model.add(tf.keras.layers.BatchNormalization())\n",
        "model.add(tf.keras.layers.Dense(32, activation='relu', kernel_initializer='he_normal'))\n",
        "model.add(tf.keras.layers.BatchNormalization())\n",
        "model.add(tf.keras.layers.Dense(5, activation='softmax', kernel_initializer='he_normal'))\n",
        "model.summary()"
      ]
    },
    {
      "cell_type": "code",
      "execution_count": null,
      "id": "a7f82bf7",
      "metadata": {
        "execution": {
          "iopub.execute_input": "2023-10-11T12:53:34.973453Z",
          "iopub.status.busy": "2023-10-11T12:53:34.973191Z",
          "iopub.status.idle": "2023-10-11T12:53:34.996730Z",
          "shell.execute_reply": "2023-10-11T12:53:34.995935Z"
        },
        "id": "a7f82bf7",
        "papermill": {
          "duration": 0.030427,
          "end_time": "2023-10-11T12:53:34.998443",
          "exception": false,
          "start_time": "2023-10-11T12:53:34.968016",
          "status": "completed"
        },
        "tags": []
      },
      "outputs": [],
      "source": [
        "model.compile(\n",
        "        optimizer=tf.keras.optimizers.Adam(learning_rate=1e-4),\n",
        "        loss='categorical_crossentropy',\n",
        "        metrics=['accuracy'])"
      ]
    },
    {
      "cell_type": "code",
      "execution_count": null,
      "id": "b236b1e7",
      "metadata": {
        "execution": {
          "iopub.execute_input": "2023-10-11T12:53:35.007914Z",
          "iopub.status.busy": "2023-10-11T12:53:35.007628Z",
          "iopub.status.idle": "2023-10-11T12:53:35.012590Z",
          "shell.execute_reply": "2023-10-11T12:53:35.011701Z"
        },
        "id": "b236b1e7",
        "papermill": {
          "duration": 0.011629,
          "end_time": "2023-10-11T12:53:35.014304",
          "exception": false,
          "start_time": "2023-10-11T12:53:35.002675",
          "status": "completed"
        },
        "tags": []
      },
      "outputs": [],
      "source": [
        "class EarlyStop(keras.callbacks.Callback):\n",
        "    def on_epoch_end(self, epoch, logs={}):\n",
        "        if logs.get('loss') is not None and logs.get('accuracy') > 0.95 and logs.get('val_accuracy')  > 0.95:\n",
        "            print(\"\\nReached wanted accuracy so cancelling training!\")\n",
        "            self.model.stop_training = True\n",
        "early_stop_cb = EarlyStop()"
      ]
    },
    {
      "cell_type": "code",
      "execution_count": null,
      "id": "ee1dd800",
      "metadata": {
        "colab": {
          "base_uri": "https://localhost:8080/"
        },
        "execution": {
          "iopub.execute_input": "2023-10-11T12:53:35.023410Z",
          "iopub.status.busy": "2023-10-11T12:53:35.023179Z",
          "iopub.status.idle": "2023-10-11T13:12:46.501694Z",
          "shell.execute_reply": "2023-10-11T13:12:46.500806Z"
        },
        "id": "ee1dd800",
        "outputId": "a2347aee-23a7-4822-b48b-84121dbaea3e",
        "papermill": {
          "duration": 1151.485381,
          "end_time": "2023-10-11T13:12:46.503714",
          "exception": false,
          "start_time": "2023-10-11T12:53:35.018333",
          "status": "completed"
        },
        "tags": []
      },
      "outputs": [
        {
          "name": "stdout",
          "output_type": "stream",
          "text": [
            "Epoch 1/40\n",
            "\u001b[1m39/39\u001b[0m \u001b[32m━━━━━━━━━━━━━━━━━━━━\u001b[0m\u001b[37m\u001b[0m \u001b[1m322s\u001b[0m 7s/step - accuracy: 0.4747 - loss: 1.3840 - val_accuracy: 0.5294 - val_loss: 1.3562\n",
            "Epoch 2/40\n",
            "\u001b[1m39/39\u001b[0m \u001b[32m━━━━━━━━━━━━━━━━━━━━\u001b[0m\u001b[37m\u001b[0m \u001b[1m274s\u001b[0m 7s/step - accuracy: 0.7275 - loss: 0.7031 - val_accuracy: 0.7059 - val_loss: 0.7931\n",
            "Epoch 3/40\n",
            "\u001b[1m39/39\u001b[0m \u001b[32m━━━━━━━━━━━━━━━━━━━━\u001b[0m\u001b[37m\u001b[0m \u001b[1m273s\u001b[0m 7s/step - accuracy: 0.8088 - loss: 0.5302 - val_accuracy: 0.4706 - val_loss: 1.0488\n",
            "Epoch 4/40\n",
            "\u001b[1m39/39\u001b[0m \u001b[32m━━━━━━━━━━━━━━━━━━━━\u001b[0m\u001b[37m\u001b[0m \u001b[1m269s\u001b[0m 7s/step - accuracy: 0.8409 - loss: 0.4460 - val_accuracy: 0.5294 - val_loss: 0.9375\n",
            "Epoch 5/40\n",
            "\u001b[1m39/39\u001b[0m \u001b[32m━━━━━━━━━━━━━━━━━━━━\u001b[0m\u001b[37m\u001b[0m \u001b[1m273s\u001b[0m 7s/step - accuracy: 0.8818 - loss: 0.3507 - val_accuracy: 0.4118 - val_loss: 1.2825\n",
            "Epoch 6/40\n",
            "\u001b[1m39/39\u001b[0m \u001b[32m━━━━━━━━━━━━━━━━━━━━\u001b[0m\u001b[37m\u001b[0m \u001b[1m274s\u001b[0m 7s/step - accuracy: 0.9082 - loss: 0.3024 - val_accuracy: 0.5294 - val_loss: 1.1763\n",
            "Epoch 7/40\n",
            "\u001b[1m39/39\u001b[0m \u001b[32m━━━━━━━━━━━━━━━━━━━━\u001b[0m\u001b[37m\u001b[0m \u001b[1m273s\u001b[0m 7s/step - accuracy: 0.9036 - loss: 0.2853 - val_accuracy: 0.5294 - val_loss: 1.2427\n",
            "Epoch 8/40\n",
            "\u001b[1m39/39\u001b[0m \u001b[32m━━━━━━━━━━━━━━━━━━━━\u001b[0m\u001b[37m\u001b[0m \u001b[1m266s\u001b[0m 7s/step - accuracy: 0.9279 - loss: 0.2319 - val_accuracy: 0.6471 - val_loss: 0.8891\n",
            "Epoch 9/40\n",
            "\u001b[1m39/39\u001b[0m \u001b[32m━━━━━━━━━━━━━━━━━━━━\u001b[0m\u001b[37m\u001b[0m \u001b[1m260s\u001b[0m 7s/step - accuracy: 0.9296 - loss: 0.2158 - val_accuracy: 0.5882 - val_loss: 1.0160\n",
            "Epoch 10/40\n",
            "\u001b[1m39/39\u001b[0m \u001b[32m━━━━━━━━━━━━━━━━━━━━\u001b[0m\u001b[37m\u001b[0m \u001b[1m263s\u001b[0m 7s/step - accuracy: 0.9359 - loss: 0.2019 - val_accuracy: 0.5294 - val_loss: 1.2319\n",
            "Epoch 11/40\n",
            "\u001b[1m39/39\u001b[0m \u001b[32m━━━━━━━━━━━━━━━━━━━━\u001b[0m\u001b[37m\u001b[0m \u001b[1m270s\u001b[0m 7s/step - accuracy: 0.9562 - loss: 0.1528 - val_accuracy: 0.5882 - val_loss: 1.1527\n",
            "Epoch 12/40\n",
            "\u001b[1m39/39\u001b[0m \u001b[32m━━━━━━━━━━━━━━━━━━━━\u001b[0m\u001b[37m\u001b[0m \u001b[1m266s\u001b[0m 7s/step - accuracy: 0.9606 - loss: 0.1355 - val_accuracy: 0.7059 - val_loss: 1.2343\n",
            "Epoch 13/40\n",
            "\u001b[1m39/39\u001b[0m \u001b[32m━━━━━━━━━━━━━━━━━━━━\u001b[0m\u001b[37m\u001b[0m \u001b[1m265s\u001b[0m 7s/step - accuracy: 0.9627 - loss: 0.1314 - val_accuracy: 0.6471 - val_loss: 1.0214\n",
            "Epoch 14/40\n",
            "\u001b[1m39/39\u001b[0m \u001b[32m━━━━━━━━━━━━━━━━━━━━\u001b[0m\u001b[37m\u001b[0m \u001b[1m265s\u001b[0m 7s/step - accuracy: 0.9704 - loss: 0.1101 - val_accuracy: 0.6471 - val_loss: 0.9379\n",
            "Epoch 15/40\n",
            "\u001b[1m39/39\u001b[0m \u001b[32m━━━━━━━━━━━━━━━━━━━━\u001b[0m\u001b[37m\u001b[0m \u001b[1m265s\u001b[0m 7s/step - accuracy: 0.9693 - loss: 0.1035 - val_accuracy: 0.5294 - val_loss: 1.0796\n",
            "Epoch 16/40\n",
            "\u001b[1m39/39\u001b[0m \u001b[32m━━━━━━━━━━━━━━━━━━━━\u001b[0m\u001b[37m\u001b[0m \u001b[1m263s\u001b[0m 7s/step - accuracy: 0.9725 - loss: 0.0955 - val_accuracy: 0.6471 - val_loss: 1.0744\n",
            "Epoch 17/40\n",
            "\u001b[1m39/39\u001b[0m \u001b[32m━━━━━━━━━━━━━━━━━━━━\u001b[0m\u001b[37m\u001b[0m \u001b[1m269s\u001b[0m 7s/step - accuracy: 0.9669 - loss: 0.1070 - val_accuracy: 0.5294 - val_loss: 1.4613\n",
            "Epoch 18/40\n",
            "\u001b[1m39/39\u001b[0m \u001b[32m━━━━━━━━━━━━━━━━━━━━\u001b[0m\u001b[37m\u001b[0m \u001b[1m272s\u001b[0m 7s/step - accuracy: 0.9692 - loss: 0.1072 - val_accuracy: 0.6471 - val_loss: 1.4456\n",
            "Epoch 19/40\n",
            "\u001b[1m39/39\u001b[0m \u001b[32m━━━━━━━━━━━━━━━━━━━━\u001b[0m\u001b[37m\u001b[0m \u001b[1m261s\u001b[0m 7s/step - accuracy: 0.9692 - loss: 0.0978 - val_accuracy: 0.6471 - val_loss: 1.2454\n",
            "Epoch 20/40\n",
            "\u001b[1m39/39\u001b[0m \u001b[32m━━━━━━━━━━━━━━━━━━━━\u001b[0m\u001b[37m\u001b[0m \u001b[1m260s\u001b[0m 7s/step - accuracy: 0.9736 - loss: 0.0972 - val_accuracy: 0.7647 - val_loss: 1.1148\n",
            "Epoch 21/40\n",
            "\u001b[1m39/39\u001b[0m \u001b[32m━━━━━━━━━━━━━━━━━━━━\u001b[0m\u001b[37m\u001b[0m \u001b[1m264s\u001b[0m 7s/step - accuracy: 0.9796 - loss: 0.0721 - val_accuracy: 0.5294 - val_loss: 1.3807\n",
            "Epoch 22/40\n",
            "\u001b[1m39/39\u001b[0m \u001b[32m━━━━━━━━━━━━━━━━━━━━\u001b[0m\u001b[37m\u001b[0m \u001b[1m261s\u001b[0m 7s/step - accuracy: 0.9834 - loss: 0.0694 - val_accuracy: 0.6471 - val_loss: 1.2981\n",
            "Epoch 23/40\n",
            "\u001b[1m39/39\u001b[0m \u001b[32m━━━━━━━━━━━━━━━━━━━━\u001b[0m\u001b[37m\u001b[0m \u001b[1m261s\u001b[0m 7s/step - accuracy: 0.9824 - loss: 0.0631 - val_accuracy: 0.6471 - val_loss: 1.4674\n",
            "Epoch 24/40\n",
            "\u001b[1m39/39\u001b[0m \u001b[32m━━━━━━━━━━━━━━━━━━━━\u001b[0m\u001b[37m\u001b[0m \u001b[1m260s\u001b[0m 7s/step - accuracy: 0.9835 - loss: 0.0638 - val_accuracy: 0.6471 - val_loss: 1.1778\n",
            "Epoch 25/40\n",
            "\u001b[1m39/39\u001b[0m \u001b[32m━━━━━━━━━━━━━━━━━━━━\u001b[0m\u001b[37m\u001b[0m \u001b[1m257s\u001b[0m 7s/step - accuracy: 0.9788 - loss: 0.0745 - val_accuracy: 0.6471 - val_loss: 1.3703\n",
            "Epoch 26/40\n",
            "\u001b[1m39/39\u001b[0m \u001b[32m━━━━━━━━━━━━━━━━━━━━\u001b[0m\u001b[37m\u001b[0m \u001b[1m260s\u001b[0m 7s/step - accuracy: 0.9812 - loss: 0.0656 - val_accuracy: 0.5882 - val_loss: 1.2170\n",
            "Epoch 27/40\n",
            "\u001b[1m39/39\u001b[0m \u001b[32m━━━━━━━━━━━━━━━━━━━━\u001b[0m\u001b[37m\u001b[0m \u001b[1m258s\u001b[0m 7s/step - accuracy: 0.9880 - loss: 0.0500 - val_accuracy: 0.7059 - val_loss: 1.1247\n",
            "Epoch 28/40\n",
            "\u001b[1m39/39\u001b[0m \u001b[32m━━━━━━━━━━━━━━━━━━━━\u001b[0m\u001b[37m\u001b[0m \u001b[1m252s\u001b[0m 6s/step - accuracy: 0.9844 - loss: 0.0539 - val_accuracy: 0.5882 - val_loss: 1.3508\n",
            "Epoch 29/40\n",
            "\u001b[1m39/39\u001b[0m \u001b[32m━━━━━━━━━━━━━━━━━━━━\u001b[0m\u001b[37m\u001b[0m \u001b[1m252s\u001b[0m 6s/step - accuracy: 0.9870 - loss: 0.0507 - val_accuracy: 0.4706 - val_loss: 1.2414\n",
            "Epoch 30/40\n",
            "\u001b[1m39/39\u001b[0m \u001b[32m━━━━━━━━━━━━━━━━━━━━\u001b[0m\u001b[37m\u001b[0m \u001b[1m252s\u001b[0m 6s/step - accuracy: 0.9834 - loss: 0.0499 - val_accuracy: 0.5294 - val_loss: 1.7530\n",
            "Epoch 31/40\n",
            "\u001b[1m39/39\u001b[0m \u001b[32m━━━━━━━━━━━━━━━━━━━━\u001b[0m\u001b[37m\u001b[0m \u001b[1m254s\u001b[0m 7s/step - accuracy: 0.9831 - loss: 0.0550 - val_accuracy: 0.5882 - val_loss: 1.9283\n",
            "Epoch 32/40\n",
            "\u001b[1m39/39\u001b[0m \u001b[32m━━━━━━━━━━━━━━━━━━━━\u001b[0m\u001b[37m\u001b[0m \u001b[1m253s\u001b[0m 6s/step - accuracy: 0.9851 - loss: 0.0547 - val_accuracy: 0.5882 - val_loss: 1.5564\n",
            "Epoch 33/40\n",
            "\u001b[1m39/39\u001b[0m \u001b[32m━━━━━━━━━━━━━━━━━━━━\u001b[0m\u001b[37m\u001b[0m \u001b[1m253s\u001b[0m 6s/step - accuracy: 0.9858 - loss: 0.0539 - val_accuracy: 0.5882 - val_loss: 1.3029\n",
            "Epoch 34/40\n",
            "\u001b[1m39/39\u001b[0m \u001b[32m━━━━━━━━━━━━━━━━━━━━\u001b[0m\u001b[37m\u001b[0m \u001b[1m253s\u001b[0m 6s/step - accuracy: 0.9883 - loss: 0.0398 - val_accuracy: 0.5294 - val_loss: 1.7243\n",
            "Epoch 35/40\n",
            "\u001b[1m39/39\u001b[0m \u001b[32m━━━━━━━━━━━━━━━━━━━━\u001b[0m\u001b[37m\u001b[0m \u001b[1m254s\u001b[0m 7s/step - accuracy: 0.9833 - loss: 0.0543 - val_accuracy: 0.7059 - val_loss: 1.5551\n",
            "Epoch 36/40\n",
            "\u001b[1m39/39\u001b[0m \u001b[32m━━━━━━━━━━━━━━━━━━━━\u001b[0m\u001b[37m\u001b[0m \u001b[1m253s\u001b[0m 6s/step - accuracy: 0.9878 - loss: 0.0436 - val_accuracy: 0.7059 - val_loss: 1.4968\n",
            "Epoch 37/40\n",
            "\u001b[1m39/39\u001b[0m \u001b[32m━━━━━━━━━━━━━━━━━━━━\u001b[0m\u001b[37m\u001b[0m \u001b[1m253s\u001b[0m 6s/step - accuracy: 0.9884 - loss: 0.0454 - val_accuracy: 0.5294 - val_loss: 1.5769\n",
            "Epoch 38/40\n",
            "\u001b[1m39/39\u001b[0m \u001b[32m━━━━━━━━━━━━━━━━━━━━\u001b[0m\u001b[37m\u001b[0m \u001b[1m253s\u001b[0m 6s/step - accuracy: 0.9909 - loss: 0.0366 - val_accuracy: 0.6471 - val_loss: 1.9925\n",
            "Epoch 39/40\n",
            "\u001b[1m39/39\u001b[0m \u001b[32m━━━━━━━━━━━━━━━━━━━━\u001b[0m\u001b[37m\u001b[0m \u001b[1m253s\u001b[0m 6s/step - accuracy: 0.9886 - loss: 0.0397 - val_accuracy: 0.6471 - val_loss: 2.0554\n",
            "Epoch 40/40\n",
            "\u001b[1m39/39\u001b[0m \u001b[32m━━━━━━━━━━━━━━━━━━━━\u001b[0m\u001b[37m\u001b[0m \u001b[1m253s\u001b[0m 6s/step - accuracy: 0.9812 - loss: 0.0552 - val_accuracy: 0.7059 - val_loss: 1.8484\n"
          ]
        }
      ],
      "source": [
        "epochs_len = 40\n",
        "history = model.fit(\n",
        "    train_generator,\n",
        "    epochs=epochs_len,\n",
        "    batch_size=128,\n",
        "    verbose=1,\n",
        "    validation_data=val_generator,\n",
        "    callbacks=[early_stop_cb])"
      ]
    },
    {
      "cell_type": "code",
      "execution_count": null,
      "id": "dcc09458",
      "metadata": {
        "id": "dcc09458"
      },
      "outputs": [],
      "source": [
        "model.save('./Fungi/model.h5')\n",
        "#save model supaya bisaa trial tanpa harus train ulang\n",
        "#trial dilanjut di Test Model.ipynb"
      ]
    },
    {
      "cell_type": "code",
      "execution_count": null,
      "id": "4d113f8b",
      "metadata": {
        "execution": {
          "iopub.execute_input": "2023-10-11T13:12:46.743256Z",
          "iopub.status.busy": "2023-10-11T13:12:46.742931Z",
          "iopub.status.idle": "2023-10-11T13:12:47.037392Z",
          "shell.execute_reply": "2023-10-11T13:12:47.036543Z"
        },
        "id": "4d113f8b",
        "papermill": {
          "duration": 0.440098,
          "end_time": "2023-10-11T13:12:47.039322",
          "exception": false,
          "start_time": "2023-10-11T13:12:46.599224",
          "status": "completed"
        },
        "tags": [],
        "outputId": "979974ba-ae9e-4ba9-985e-8e2adbd23590"
      },
      "outputs": [
        {
          "data": {
            "image/png": "[encoded data removed]",
            "text/plain": [
              "<Figure size 640x480 with 1 Axes>"
            ]
          },
          "metadata": {},
          "output_type": "display_data"
        }
      ],
      "source": [
        "train_accuracy = history.history['accuracy']\n",
        "val_accuracy = history.history['val_accuracy']\n",
        "\n",
        "epochs = range(1,history.epoch[-1]+2)\n",
        "plt.plot(epochs, train_accuracy, 'g', label='Training accuracy')\n",
        "plt.plot(epochs, val_accuracy, 'b', label='validation accuracy')\n",
        "plt.title('Training and Validation accuracy')\n",
        "plt.xlabel('Epochs')\n",
        "plt.ylabel('Accuracy')\n",
        "plt.legend()\n",
        "plt.show()"
      ]
    },
    {
      "cell_type": "code",
      "execution_count": null,
      "id": "f90b9c04",
      "metadata": {
        "execution": {
          "iopub.execute_input": "2023-10-11T13:12:47.231853Z",
          "iopub.status.busy": "2023-10-11T13:12:47.231180Z",
          "iopub.status.idle": "2023-10-11T13:12:47.508108Z",
          "shell.execute_reply": "2023-10-11T13:12:47.507236Z"
        },
        "id": "f90b9c04",
        "papermill": {
          "duration": 0.375492,
          "end_time": "2023-10-11T13:12:47.510293",
          "exception": false,
          "start_time": "2023-10-11T13:12:47.134801",
          "status": "completed"
        },
        "tags": [],
        "outputId": "313d172a-9399-4c5e-ada7-2826c555ff40"
      },
      "outputs": [
        {
          "data": {
            "image/png": "[encoded data removed]",
            "text/plain": [
              "<Figure size 640x480 with 1 Axes>"
            ]
          },
          "metadata": {},
          "output_type": "display_data"
        }
      ],
      "source": [
        "train_loss = history.history['loss']\n",
        "val_loss = history.history['val_loss']\n",
        "\n",
        "plt.plot(epochs, train_loss, 'g', label='Training loss')\n",
        "plt.plot(epochs, val_loss, 'b', label='validation loss')\n",
        "plt.title('Training and Validation losses')\n",
        "plt.xlabel('Epochs')\n",
        "plt.ylabel('loss')\n",
        "plt.legend()\n",
        "plt.show()"
      ]
    },
    {
      "cell_type": "code",
      "source": [
        "uploaded = files.upload()\n",
        "\n",
        "for fn in uploaded.keys():\n",
        "    path = fn\n",
        "    img = image.load_img(path, target_size=(150, 150))\n",
        "\n",
        "    imgplot = plt.imshow(img)\n",
        "\n",
        "    x = image.img_to_array(img)\n",
        "    x = np.expand_dims(x, axis=0)\n",
        "\n",
        "    images = np.vstack([x])\n",
        "\n",
        "    classes = model.predict(images, batch_size=10)\n",
        "\n",
        "    print(fn)\n",
        "    print(classes)\n",
        "\n",
        "    class_index = np.argmax(classes[0])\n",
        "    class_probability = classes[0][class_index]\n",
        "\n",
        "    threshold = 0.5\n",
        "\n",
        "    if class_probability >= threshold:\n",
        "        if class_index == 0:\n",
        "            print('This is Candida Albicans')\n",
        "        elif class_index == 1:\n",
        "            print('This is Aspergillus Niger')\n",
        "        elif class_index == 2:\n",
        "            print('This is Trichophyton Rubrum')\n",
        "        elif class_index == 3:\n",
        "            print('This is Trichophyton Mentagrophytes')\n",
        "        elif class_index == 4:\n",
        "            print('This is Epidermophyton Floccosum')\n",
        "    else:\n",
        "        print('Unknown')\n"
      ],
      "metadata": {
        "id": "m6dbesvSWG-_"
      },
      "execution_count": null,
      "outputs": [],
      "id": "m6dbesvSWG-_"
    }
  ],
  "metadata": {
    "colab": {
      "provenance": []
    },
    "kernelspec": {
      "display_name": "base",
      "language": "python",
      "name": "python3"
    },
    "language_info": {
      "codemirror_mode": {
        "name": "ipython",
        "version": 3
      },
      "file_extension": ".py",
      "mimetype": "text/x-python",
      "name": "python",
      "nbconvert_exporter": "python",
      "pygments_lexer": "ipython3",
      "version": "3.12.7"
    },
    "papermill": {
      "default_parameters": {},
      "duration": 1205.934936,
      "end_time": "2023-10-11T13:12:51.326713",
      "environment_variables": {},
      "exception": null,
      "input_path": "__notebook__.ipynb",
      "output_path": "__notebook__.ipynb",
      "parameters": {},
      "start_time": "2023-10-11T12:52:45.391777",
      "version": "2.4.0"
    }
  },
  "nbformat": 4,
  "nbformat_minor": 5
}